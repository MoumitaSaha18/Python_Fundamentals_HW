{
 "cells": [
  {
   "cell_type": "markdown",
   "id": "26d319f4",
   "metadata": {},
   "source": [
    "**Problem 1: Maximum product of three numbers.**<br>\n",
    "Given an integer array nums, find three numbers whose product is maximum and return the maximum product."
   ]
  },
  {
   "cell_type": "code",
   "execution_count": 15,
   "id": "95084703",
   "metadata": {},
   "outputs": [],
   "source": [
    "def maximumProduct(nums):\n",
    "    \n",
    "    nums = sorted(nums)\n",
    "    print(\"sorted nums = \", nums)\n",
    "    \n",
    "    prod_1 = nums[0]*nums[1]*nums[-1]\n",
    "    print(\"prod_1 = \", prod_1)\n",
    "    prod_2 = nums[-1]*nums[-2]*nums[-3]\n",
    "    print(\"prod_2 = \", prod_2)\n",
    "    \n",
    "    return max(prod_1, prod_2)"
   ]
  },
  {
   "cell_type": "code",
   "execution_count": 16,
   "id": "4bffeb8a",
   "metadata": {},
   "outputs": [
    {
     "name": "stdout",
     "output_type": "stream",
     "text": [
      "First one:\n",
      "sorted nums =  [1, 2, 3]\n",
      "prod_1 =  6\n",
      "prod_2 =  6\n",
      "6\n",
      "Second one:\n",
      "sorted nums =  [1, 2, 3, 4]\n",
      "prod_1 =  8\n",
      "prod_2 =  24\n",
      "24\n",
      "Third one:\n",
      "sorted nums =  [-3, -2, -1]\n",
      "prod_1 =  -6\n",
      "prod_2 =  -6\n",
      "-6\n"
     ]
    }
   ],
   "source": [
    "print(\"First one:\")\n",
    "p1_example_1 = maximumProduct([1,2,3])\n",
    "print(p1_example_1)\n",
    "print(\"Second one:\")\n",
    "p2_example_2 = maximumProduct([1,2,3,4])\n",
    "print(p2_example_2)\n",
    "print(\"Third one:\")\n",
    "p3_example_3 = maximumProduct([-1,-2,-3])\n",
    "print(p3_example_3)"
   ]
  },
  {
   "cell_type": "markdown",
   "id": "29e2939e",
   "metadata": {},
   "source": [
    "**Problem 2:Richest Customer Wealth**<br>\n",
    "You are given an m x n integer grid accounts where accounts[i][j] is the amount of money the i-th customer has in the j-th bank. Return the wealth that the richest customer has.\n",
    "\n",
    "A customer's wealth is the amount of money they have in all their bank accounts. The richest customer is the customer that has the maximum wealth."
   ]
  },
  {
   "cell_type": "code",
   "execution_count": 21,
   "id": "7281f0d9",
   "metadata": {},
   "outputs": [],
   "source": [
    "def maximumWealth(accounts):\n",
    "    \n",
    "    wealth = []\n",
    "    \n",
    "    for element in range(len(accounts)):\n",
    "        \n",
    "        print(accounts[element])\n",
    "        \n",
    "        wealth.append(sum(accounts[element]))\n",
    "        \n",
    "    print(\"wealth = \", wealth)\n",
    "    return max(wealth)"
   ]
  },
  {
   "cell_type": "code",
   "execution_count": 24,
   "id": "8de76f2b",
   "metadata": {},
   "outputs": [
    {
     "name": "stdout",
     "output_type": "stream",
     "text": [
      "1st example:\n",
      "[1, 2, 3]\n",
      "[3, 2, 1]\n",
      "wealth =  [6, 6]\n",
      "6\n",
      "2nd example:\n",
      "[1, 5]\n",
      "[7, 3]\n",
      "[3, 5]\n",
      "wealth =  [6, 10, 8]\n",
      "10\n",
      "3rd example:\n",
      "[2, 8, 7]\n",
      "[7, 1, 3]\n",
      "[1, 9, 5]\n",
      "wealth =  [17, 11, 15]\n",
      "17\n"
     ]
    }
   ],
   "source": [
    "print(\"1st example:\")\n",
    "p2_ex_1 = maximumWealth([[1,2,3],[3,2,1]])\n",
    "print(p2_ex_1)\n",
    "\n",
    "print(\"2nd example:\")\n",
    "p2_ex_2 = maximumWealth([[1,5],[7,3],[3,5]])\n",
    "print(p2_ex_2)\n",
    "\n",
    "print(\"3rd example:\")\n",
    "\n",
    "p2_ex_3 = maximumWealth([[2,8,7],[7,1,3],[1,9,5]])\n",
    "print(p2_ex_3)"
   ]
  },
  {
   "cell_type": "markdown",
   "id": "f7ecc7b3",
   "metadata": {},
   "source": [
    "**Problem 3:Shuffle the Array**<br>\n",
    "Given the array nums consisting of 2n elements in the form [x_1,x_2,...,x_n,y_1,y_2,...,y_n].<br>\n",
    "\n",
    "Return the array in the form [x_1,y_1,x_2,y_2,...,x_n,y_n]."
   ]
  },
  {
   "cell_type": "code",
   "execution_count": 8,
   "id": "06a4657b",
   "metadata": {},
   "outputs": [],
   "source": [
    " def shuffle(nums,mid):\n",
    "        \n",
    "        mid = int(len(nums)/2)\n",
    "        x = nums[:mid]\n",
    "        y = nums[mid:]\n",
    "        ans = []\n",
    "        for i, n in enumerate(x):\n",
    "            ans.append(n)\n",
    "            ans.append(y[i])\n",
    "        return ans"
   ]
  },
  {
   "cell_type": "code",
   "execution_count": 13,
   "id": "6879588d",
   "metadata": {},
   "outputs": [
    {
     "name": "stdout",
     "output_type": "stream",
     "text": [
      "First Example's solution:\n",
      "[2, 3, 5, 4, 1, 7]\n",
      "Second Example's solution:\n",
      "[1, 4, 2, 3, 3, 2, 4, 1]\n",
      "Third Example's solution:\n",
      "[1, 2, 1, 2]\n"
     ]
    }
   ],
   "source": [
    "print(\"First Example's solution:\")\n",
    "p3_ex_1 = shuffle([2,5,1,3,4,7], 3)\n",
    "print(p3_ex_1)\n",
    "\n",
    "print(\"Second Example's solution:\")\n",
    "p3_ex_2 = shuffle([1,2,3,4,4,3,2,1], 4)\n",
    "print(p3_ex_2)\n",
    "\n",
    "print(\"Third Example's solution:\")\n",
    "p3_ex_3 = shuffle([1,1,2,2], 2)\n",
    "print(p3_ex_3)"
   ]
  },
  {
   "cell_type": "markdown",
   "id": "be2072a0",
   "metadata": {},
   "source": [
    "**Problem 4:Valid Perfect Square**<br>\n",
    "Given a positive integer num, write a function which returns True if num is a perfect square else False."
   ]
  },
  {
   "cell_type": "code",
   "execution_count": 4,
   "id": "c2942575",
   "metadata": {},
   "outputs": [],
   "source": [
    "def isPerfectSquare(num):\n",
    "    \n",
    "    print(\"square root = \", num**0.5)\n",
    "    \n",
    "    print(\"square root (integer part only) = \", int(num**0.5))\n",
    "    \n",
    "    return int(num**0.5) == num**0.5"
   ]
  },
  {
   "cell_type": "code",
   "execution_count": 6,
   "id": "90757ca3",
   "metadata": {},
   "outputs": [
    {
     "name": "stdout",
     "output_type": "stream",
     "text": [
      "First Example:\n",
      "square root =  4.0\n",
      "square root (integer part only) =  4\n",
      "True\n",
      "Second Example:\n",
      "square root =  3.7416573867739413\n",
      "square root (integer part only) =  3\n",
      "False\n"
     ]
    }
   ],
   "source": [
    "print(\"First Example:\")\n",
    "p4_ex_1 = isPerfectSquare(16)\n",
    "print(p4_ex_1)\n",
    "\n",
    "print(\"Second Example:\")\n",
    "p4_ex_2 = isPerfectSquare(14)\n",
    "print(p4_ex_2)"
   ]
  },
  {
   "cell_type": "code",
   "execution_count": null,
   "id": "5ac30c31",
   "metadata": {},
   "outputs": [],
   "source": []
  }
 ],
 "metadata": {
  "kernelspec": {
   "display_name": "Python 3",
   "language": "python",
   "name": "python3"
  },
  "language_info": {
   "codemirror_mode": {
    "name": "ipython",
    "version": 3
   },
   "file_extension": ".py",
   "mimetype": "text/x-python",
   "name": "python",
   "nbconvert_exporter": "python",
   "pygments_lexer": "ipython3",
   "version": "3.8.8"
  }
 },
 "nbformat": 4,
 "nbformat_minor": 5
}
